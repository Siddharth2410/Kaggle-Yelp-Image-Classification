{
 "cells": [
  {
   "cell_type": "code",
   "execution_count": 1,
   "metadata": {
    "collapsed": false
   },
   "outputs": [],
   "source": [
    "import lmdb"
   ]
  },
  {
   "cell_type": "code",
   "execution_count": 2,
   "metadata": {
    "collapsed": true
   },
   "outputs": [],
   "source": [
    "import re, fileinput, math"
   ]
  },
  {
   "cell_type": "code",
   "execution_count": 3,
   "metadata": {
    "collapsed": true
   },
   "outputs": [],
   "source": [
    "import numpy as np"
   ]
  },
  {
   "cell_type": "code",
   "execution_count": 4,
   "metadata": {
    "collapsed": true
   },
   "outputs": [],
   "source": [
    "caffe_root = '/home/osboxes/caffe/'"
   ]
  },
  {
   "cell_type": "code",
   "execution_count": 5,
   "metadata": {
    "collapsed": true
   },
   "outputs": [],
   "source": [
    "import sys"
   ]
  },
  {
   "cell_type": "code",
   "execution_count": 6,
   "metadata": {
    "collapsed": false
   },
   "outputs": [],
   "source": [
    "sys.path.insert(0, caffe_root + 'python')"
   ]
  },
  {
   "cell_type": "code",
   "execution_count": 8,
   "metadata": {
    "collapsed": false
   },
   "outputs": [
    {
     "data": {
      "text/plain": [
       "['/home/osboxes/caffe/python',\n",
       " '',\n",
       " '/home/osboxes/anaconda/lib/python27.zip',\n",
       " '/home/osboxes/anaconda/lib/python2.7',\n",
       " '/home/osboxes/anaconda/lib/python2.7/plat-linux2',\n",
       " '/home/osboxes/anaconda/lib/python2.7/lib-tk',\n",
       " '/home/osboxes/anaconda/lib/python2.7/lib-old',\n",
       " '/home/osboxes/anaconda/lib/python2.7/lib-dynload',\n",
       " '/home/osboxes/.local/lib/python2.7/site-packages',\n",
       " '/home/osboxes/anaconda/lib/python2.7/site-packages/Sphinx-1.3.1-py2.7.egg',\n",
       " '/home/osboxes/anaconda/lib/python2.7/site-packages',\n",
       " '/home/osboxes/anaconda/lib/python2.7/site-packages/cryptography-0.9.1-py2.7-linux-x86_64.egg',\n",
       " '/home/osboxes/anaconda/lib/python2.7/site-packages/setuptools-17.1.1-py2.7.egg',\n",
       " '/home/osboxes/.local/lib/python2.7/site-packages/IPython/extensions',\n",
       " '/home/osboxes/.ipython']"
      ]
     },
     "execution_count": 8,
     "metadata": {},
     "output_type": "execute_result"
    }
   ],
   "source": [
    "sys.path"
   ]
  },
  {
   "cell_type": "code",
   "execution_count": 10,
   "metadata": {
    "collapsed": false
   },
   "outputs": [],
   "source": [
    "import caffe"
   ]
  },
  {
   "cell_type": "code",
   "execution_count": 11,
   "metadata": {
    "collapsed": true
   },
   "outputs": [],
   "source": [
    "demo_path = '/home/osboxes/demo/'"
   ]
  },
  {
   "cell_type": "code",
   "execution_count": 12,
   "metadata": {
    "collapsed": true
   },
   "outputs": [],
   "source": [
    "data = 'Train.txt'"
   ]
  },
  {
   "cell_type": "code",
   "execution_count": 13,
   "metadata": {
    "collapsed": true
   },
   "outputs": [],
   "source": [
    "data = demo_path + data"
   ]
  },
  {
   "cell_type": "code",
   "execution_count": 37,
   "metadata": {
    "collapsed": false
   },
   "outputs": [
    {
     "data": {
      "text/plain": [
       "'/home/osboxes/demo/Train.txt'"
      ]
     },
     "execution_count": 37,
     "metadata": {},
     "output_type": "execute_result"
    }
   ],
   "source": [
    "data"
   ]
  },
  {
   "cell_type": "code",
   "execution_count": 38,
   "metadata": {
    "collapsed": true
   },
   "outputs": [],
   "source": [
    "lmdb_label_name = 'train_label_lmdb'"
   ]
  },
  {
   "cell_type": "code",
   "execution_count": 46,
   "metadata": {
    "collapsed": true
   },
   "outputs": [],
   "source": [
    "Inputs = []\n",
    "Labels = []"
   ]
  },
  {
   "cell_type": "code",
   "execution_count": 47,
   "metadata": {
    "collapsed": false
   },
   "outputs": [],
   "source": [
    "finput = fileinput.input(data)"
   ]
  },
  {
   "cell_type": "code",
   "execution_count": null,
   "metadata": {
    "collapsed": true
   },
   "outputs": [],
   "source": []
  },
  {
   "cell_type": "code",
   "execution_count": 48,
   "metadata": {
    "collapsed": false
   },
   "outputs": [],
   "source": [
    "for line in finput:\n",
    "    entries = re.split(' ', line.rstrip(), 1)\n",
    "    Inputs.append(entries[0])\n",
    "    Labels.append(entries[1])\n"
   ]
  },
  {
   "cell_type": "code",
   "execution_count": 49,
   "metadata": {
    "collapsed": false
   },
   "outputs": [],
   "source": [
    "finput.close()"
   ]
  },
  {
   "cell_type": "code",
   "execution_count": 50,
   "metadata": {
    "collapsed": false
   },
   "outputs": [
    {
     "data": {
      "text/plain": [
       "['-1 -1 -1 -1 -1 -1 1 -1 1',\n",
       " '-1 -1 -1 1 -1 -1 1 -1 -1',\n",
       " '-1 1 1 -1 1 1 1 1 -1',\n",
       " '-1 1 1 -1 1 1 1 -1 -1',\n",
       " '1 1 1 -1 -1 1 1 1 1',\n",
       " '1 -1 -1 1 -1 1 -1 -1 1',\n",
       " '1 1 -1 -1 -1 1 1 -1 -1',\n",
       " '-1 -1 -1 -1 -1 -1 -1 -1 -1',\n",
       " '-1 1 1 -1 1 1 1 -1 -1',\n",
       " '-1 -1 -1 -1 -1 -1 1 -1 1',\n",
       " '-1 1 1 -1 1 1 1 -1 -1',\n",
       " '-1 1 1 -1 1 1 1 1 -1',\n",
       " '-1 -1 1 1 -1 1 1 1 1',\n",
       " '-1 -1 -1 -1 -1 -1 -1 -1 1',\n",
       " '-1 -1 1 1 -1 1 1 -1 -1',\n",
       " '-1 1 1 -1 1 1 1 1 -1',\n",
       " '1 -1 1 -1 -1 1 1 -1 1',\n",
       " '-1 -1 1 -1 -1 1 1 -1 -1',\n",
       " '-1 1 1 -1 1 1 1 -1 -1',\n",
       " '-1 -1 -1 -1 -1 1 -1 -1 1',\n",
       " '-1 1 1 1 1 1 1 1 1',\n",
       " '1 1 -1 -1 -1 -1 -1 -1 1',\n",
       " '-1 1 1 1 -1 1 1 -1 1',\n",
       " '-1 1 1 -1 1 1 1 1 -1',\n",
       " '-1 -1 -1 1 -1 1 1 -1 1',\n",
       " '-1 1 1 -1 -1 1 1 -1 1',\n",
       " '-1 1 1 1 1 1 1 1 -1',\n",
       " '-1 -1 -1 -1 -1 1 1 1 -1',\n",
       " '1 -1 1 1 -1 1 1 -1 1',\n",
       " '-1 1 1 1 1 1 1 1 -1',\n",
       " '-1 1 -1 1 -1 1 1 1 -1',\n",
       " '1 -1 -1 1 -1 -1 -1 -1 1',\n",
       " '-1 1 1 -1 1 1 1 1 -1',\n",
       " '-1 1 1 -1 -1 1 1 1 1',\n",
       " '1 -1 -1 -1 -1 -1 1 -1 1',\n",
       " '1 -1 -1 1 -1 -1 -1 -1 1',\n",
       " '1 -1 -1 -1 -1 -1 -1 -1 1',\n",
       " '1 1 -1 1 -1 1 1 -1 1',\n",
       " '1 -1 -1 -1 -1 -1 -1 -1 1',\n",
       " '-1 -1 -1 -1 -1 1 1 -1 1',\n",
       " '-1 -1 -1 1 -1 1 1 1 -1',\n",
       " '-1 1 1 1 1 1 1 -1 -1',\n",
       " '-1 1 1 -1 1 1 1 1 -1',\n",
       " '1 -1 -1 -1 -1 -1 -1 -1 1',\n",
       " '-1 -1 1 -1 -1 1 1 -1 -1',\n",
       " '-1 1 1 -1 1 1 1 1 -1',\n",
       " '1 -1 -1 1 -1 -1 -1 -1 1',\n",
       " '-1 -1 1 1 -1 1 1 1 1',\n",
       " '-1 1 1 -1 1 1 1 -1 -1',\n",
       " '-1 -1 -1 -1 -1 -1 1 -1 1',\n",
       " '-1 1 1 -1 -1 1 1 -1 1',\n",
       " '-1 1 1 1 -1 1 1 1 1',\n",
       " '-1 1 1 1 -1 1 1 1 -1',\n",
       " '-1 1 1 1 1 1 1 -1 -1',\n",
       " '-1 1 1 1 1 1 1 1 1',\n",
       " '-1 -1 1 1 -1 1 1 -1 1',\n",
       " '-1 1 1 1 1 1 1 1 1',\n",
       " '-1 1 1 -1 1 1 1 1 -1',\n",
       " '-1 1 1 1 1 1 1 1 -1',\n",
       " '-1 1 1 1 1 1 1 -1 -1',\n",
       " '-1 1 1 1 1 1 1 1 -1',\n",
       " '-1 -1 -1 1 -1 1 -1 -1 1',\n",
       " '-1 1 1 -1 1 1 1 1 -1',\n",
       " '-1 1 1 1 1 -1 1 -1 -1',\n",
       " '-1 1 1 1 1 1 1 1 -1',\n",
       " '-1 1 1 -1 1 1 1 -1 -1',\n",
       " '-1 -1 -1 1 -1 1 1 1 -1',\n",
       " '-1 1 1 1 1 1 1 1 -1',\n",
       " '-1 1 1 1 1 1 1 1 -1',\n",
       " '-1 -1 -1 -1 -1 1 1 -1 1',\n",
       " '-1 1 1 1 1 1 1 -1 -1',\n",
       " '1 1 1 1 -1 1 1 1 -1',\n",
       " '-1 1 1 1 -1 1 1 1 1',\n",
       " '1 1 -1 1 -1 -1 -1 -1 1',\n",
       " '-1 -1 -1 -1 -1 -1 1 -1 1',\n",
       " '-1 1 1 1 1 1 1 -1 -1',\n",
       " '1 -1 -1 1 -1 1 -1 -1 1',\n",
       " '-1 1 1 -1 -1 1 1 1 1',\n",
       " '1 -1 1 1 -1 -1 -1 -1 1',\n",
       " '-1 1 1 -1 1 1 1 -1 -1',\n",
       " '-1 -1 1 1 -1 1 1 -1 -1',\n",
       " '-1 -1 -1 1 -1 -1 -1 -1 1',\n",
       " '1 -1 -1 1 -1 -1 -1 -1 1',\n",
       " '-1 1 1 1 1 1 1 1 -1',\n",
       " '-1 1 1 1 1 1 1 -1 -1',\n",
       " '-1 1 1 -1 1 1 1 1 -1',\n",
       " '-1 -1 1 -1 -1 1 1 -1 -1',\n",
       " '1 1 1 -1 -1 -1 1 -1 1',\n",
       " '-1 1 1 1 -1 1 1 -1 -1',\n",
       " '1 -1 -1 1 -1 -1 -1 -1 1',\n",
       " '-1 1 1 -1 1 1 1 1 -1',\n",
       " '-1 -1 -1 -1 -1 -1 1 -1 1',\n",
       " '-1 -1 -1 1 -1 -1 -1 -1 1',\n",
       " '-1 1 1 1 1 1 1 -1 -1',\n",
       " '1 -1 -1 1 -1 -1 -1 -1 1',\n",
       " '-1 1 1 -1 1 1 1 -1 -1',\n",
       " '-1 1 1 -1 1 1 1 -1 -1',\n",
       " '-1 1 1 -1 1 1 1 1 -1',\n",
       " '-1 1 1 -1 1 1 1 1 -1',\n",
       " '-1 1 1 -1 1 1 1 -1 1',\n",
       " '-1 1 1 -1 1 1 1 -1 -1',\n",
       " '-1 1 1 1 1 1 1 1 -1',\n",
       " '1 -1 -1 1 -1 -1 -1 -1 1',\n",
       " '-1 1 -1 -1 1 1 1 -1 -1',\n",
       " '-1 1 1 -1 1 1 1 1 -1',\n",
       " '-1 1 1 -1 1 1 1 1 -1',\n",
       " '-1 -1 1 1 1 1 1 1 -1',\n",
       " '-1 1 1 1 1 1 1 1 -1',\n",
       " '-1 1 1 -1 1 1 1 -1 -1',\n",
       " '-1 1 1 -1 1 1 1 1 1',\n",
       " '-1 1 1 -1 1 1 1 1 -1',\n",
       " '-1 1 1 -1 -1 1 1 -1 1',\n",
       " '-1 1 1 -1 -1 1 1 -1 1',\n",
       " '-1 -1 1 1 1 1 1 1 -1',\n",
       " '1 -1 -1 1 -1 -1 -1 -1 1',\n",
       " '-1 1 1 -1 1 1 1 1 -1',\n",
       " '-1 1 1 1 1 1 1 1 1',\n",
       " '-1 -1 -1 1 -1 -1 -1 -1 1',\n",
       " '-1 1 -1 -1 -1 1 1 -1 -1',\n",
       " '1 -1 -1 -1 -1 -1 -1 -1 1']"
      ]
     },
     "execution_count": 50,
     "metadata": {},
     "output_type": "execute_result"
    }
   ],
   "source": [
    "Labels"
   ]
  },
  {
   "cell_type": "code",
   "execution_count": 51,
   "metadata": {
    "collapsed": true
   },
   "outputs": [],
   "source": [
    "finput.close()\n"
   ]
  },
  {
   "cell_type": "code",
   "execution_count": null,
   "metadata": {
    "collapsed": true
   },
   "outputs": [],
   "source": []
  }
 ],
 "metadata": {
  "kernelspec": {
   "display_name": "Python 2",
   "language": "python",
   "name": "python2"
  },
  "language_info": {
   "codemirror_mode": {
    "name": "ipython",
    "version": 2
   },
   "file_extension": ".py",
   "mimetype": "text/x-python",
   "name": "python",
   "nbconvert_exporter": "python",
   "pygments_lexer": "ipython2",
   "version": "2.7.10"
  }
 },
 "nbformat": 4,
 "nbformat_minor": 0
}
